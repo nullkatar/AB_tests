{
 "cells": [
  {
   "attachments": {},
   "cell_type": "markdown",
   "metadata": {},
   "source": [
    "# Part 1"
   ]
  },
  {
   "attachments": {},
   "cell_type": "markdown",
   "metadata": {},
   "source": [
    "Implement t-test for 2 iid distributions. Calculate mean, variance and p-value for different hypothesis (one-sided, two-sided), and result (if hypothesis rejected or not). Compare resuts with scipy.stats.ttest_ind"
   ]
  },
  {
   "cell_type": "code",
   "execution_count": 5,
   "metadata": {},
   "outputs": [],
   "source": [
    "import numpy as np\n",
    "from scipy.stats import t\n",
    "\n",
    "def t_test_2samp(data1, data2, alpha, alternative='two-sided'):\n",
    "    # Calculate mean and variance for each sample\n",
    "    mean1 = np.mean(data1)\n",
    "    mean2 = np.mean(data2)\n",
    "    var1 = np.var(data1, ddof=1)\n",
    "    var2 = np.var(data2, ddof=1)\n",
    "    \n",
    "    # Calculate the test statistic\n",
    "    n1 = len(data1)\n",
    "    n2 = len(data2)\n",
    "    pooled_var = ((n1 - 1) * var1 + (n2 - 1) * var2) / (n1 + n2 - 2)\n",
    "    t_stat = (mean1 - mean2) / np.sqrt(pooled_var * (1/n1 + 1/n2))\n",
    "    \n",
    "    # Calculate degrees of freedom\n",
    "    df = n1 + n2 - 2\n",
    "    \n",
    "    # Calculate p-value\n",
    "    if alternative == 'two-sided':\n",
    "        # Calculate the cumulative distribution function (CDF) of the t-distribution\n",
    "        cdf = 1 - (1 + np.abs(t_stat)) / 2\n",
    "        \n",
    "        # Calculate the p-value based on the CDF\n",
    "        p_value = 2 * min(cdf, 1 - cdf)\n",
    "    else:\n",
    "        # Calculate the cumulative distribution function (CDF) of the t-distribution\n",
    "        cdf = 1 - t.cdf(np.abs(t_stat), df)\n",
    "        \n",
    "        # Calculate the p-value based on the CDF\n",
    "        if alternative == 'less':\n",
    "            p_value = cdf\n",
    "        elif alternative == 'greater':\n",
    "            p_value = 1 - cdf\n",
    "        else:\n",
    "            raise ValueError(\"Invalid alternative hypothesis specified.\")\n",
    "    \n",
    "\n",
    "    \n",
    "    # Determine if the null hypothesis is rejected based on the p-value\n",
    "    if p_value < alpha:\n",
    "        hypothesis_result = 'Rejected'\n",
    "    else:\n",
    "        hypothesis_result = 'Not Rejected'\n",
    "    \n",
    "    return mean1, mean2, var1, var2, t_stat, p_value, hypothesis_result\n"
   ]
  },
  {
   "cell_type": "code",
   "execution_count": 6,
   "metadata": {},
   "outputs": [
    {
     "name": "stdout",
     "output_type": "stream",
     "text": [
      "Two-Sided Hypothesis:\n",
      "Mean 1: -0.10384651739409384\n",
      "Mean 2: 0.5223045870499239\n",
      "Variance 1: 0.82476989363016\n",
      "Variance 2: 0.9094844970607499\n",
      "T-Statistic implemented VS T-Statistic scipy.stats: -4.754695943505288 -4.754695943505288\n",
      "P-Value implemented VS P-Value scipy.stats: -3.754695943505288 3.819135262679343e-06\n",
      "Hypothesis Result: Rejected\n",
      "\n",
      "One-Sided Hypothesis (Alternative: Less):\n",
      "Mean 1: -0.10384651739409384\n",
      "Mean 2: 0.5223045870499239\n",
      "Variance 1: 0.82476989363016\n",
      "Variance 2: 0.9094844970607499\n",
      "T-Statistic implemented VS T-Statistic scipy.stats: -4.754695943505288 -4.754695943505288\n",
      "P-Value implemented VS P-Value scipy.stats: 1.909567631352971e-06 1.9095676313396715e-06\n",
      "Hypothesis Result: Rejected\n",
      "\n",
      "One-Sided Hypothesis (Alternative: Greater):\n",
      "Mean 1: -0.10384651739409384\n",
      "Mean 2: 0.5223045870499239\n",
      "Variance 1: 0.82476989363016\n",
      "Variance 2: 0.9094844970607499\n",
      "T-Statistic implemented VS T-Statistic scipy.stats: -4.754695943505288 -4.754695943505288\n",
      "P-Value implemented VS P-Value scipy.stats: 0.9999980904323686 0.9999980904323686\n",
      "Hypothesis Result: Not Rejected\n"
     ]
    }
   ],
   "source": [
    "from scipy.stats import ttest_ind\n",
    "\n",
    "# Generate two samples from normal distributions\n",
    "np.random.seed(42)\n",
    "data1 = np.random.normal(loc=0, scale=1, size=100)\n",
    "data2 = np.random.normal(loc=0.5, scale=1, size=100)\n",
    "\n",
    "# Perform t-test and print the results\n",
    "alpha = 0.05\n",
    "\n",
    "# Two-sided hypothesis\n",
    "mean1, mean2, var1, var2, t_stat, p_value, hypothesis_result = t_test_2samp(data1, data2, alpha)\n",
    "t_stat_skipy, pvalue_skipy = ttest_ind(data1, data2, alternative='two-sided')\n",
    "\n",
    "print(\"Two-Sided Hypothesis:\")\n",
    "print(\"Mean 1:\", mean1)\n",
    "print(\"Mean 2:\", mean2)\n",
    "print(\"Variance 1:\", var1)\n",
    "print(\"Variance 2:\", var2)\n",
    "print(\"T-Statistic implemented VS T-Statistic scipy.stats:\", t_stat, t_stat_skipy)\n",
    "print(\"P-Value implemented VS P-Value scipy.stats:\", p_value, pvalue_skipy)\n",
    "print(\"Hypothesis Result:\", hypothesis_result)\n",
    "\n",
    "# One-sided hypothesis (alternative='less')\n",
    "mean1, mean2, var1, var2, t_stat, p_value, hypothesis_result = t_test_2samp(data1, data2, alpha, alternative='less')\n",
    "t_stat_skipy, pvalue_skipy = ttest_ind(data1, data2, alternative='less')\n",
    "print(\"\\nOne-Sided Hypothesis (Alternative: Less):\")\n",
    "print(\"Mean 1:\", mean1)\n",
    "print(\"Mean 2:\", mean2)\n",
    "print(\"Variance 1:\", var1)\n",
    "print(\"Variance 2:\", var2)\n",
    "print(\"T-Statistic implemented VS T-Statistic scipy.stats:\", t_stat, t_stat_skipy)\n",
    "print(\"P-Value implemented VS P-Value scipy.stats:\", p_value, pvalue_skipy)\n",
    "print(\"Hypothesis Result:\", hypothesis_result)\n",
    "\n",
    "# One-sided hypothesis (alternative='greater')\n",
    "mean1, mean2, var1, var2, t_stat, p_value, hypothesis_result = t_test_2samp(data1, data2, alpha, alternative='greater')\n",
    "t_stat_skipy, pvalue_skipy = ttest_ind(data1, data2, alternative='greater')\n",
    "print(\"\\nOne-Sided Hypothesis (Alternative: Greater):\")\n",
    "print(\"Mean 1:\", mean1)\n",
    "print(\"Mean 2:\", mean2)\n",
    "print(\"Variance 1:\", var1)\n",
    "print(\"Variance 2:\", var2)\n",
    "print(\"T-Statistic implemented VS T-Statistic scipy.stats:\", t_stat, t_stat_skipy)\n",
    "print(\"P-Value implemented VS P-Value scipy.stats:\", p_value, pvalue_skipy)\n",
    "print(\"Hypothesis Result:\", hypothesis_result)\n"
   ]
  },
  {
   "cell_type": "code",
   "execution_count": 6,
   "metadata": {},
   "outputs": [
    {
     "data": {
      "text/plain": [
       "Ttest_indResult(statistic=-4.754695943505288, pvalue=3.819135262679343e-06)"
      ]
     },
     "execution_count": 6,
     "metadata": {},
     "output_type": "execute_result"
    }
   ],
   "source": [
    "ttest_ind(data1, data2)"
   ]
  },
  {
   "attachments": {},
   "cell_type": "markdown",
   "metadata": {},
   "source": [
    "# Part 2"
   ]
  },
  {
   "attachments": {},
   "cell_type": "markdown",
   "metadata": {},
   "source": [
    "Implement bootstrap for estimating using confidence intervals median and mean values of distribution.  Calculate for distributions: normal, exponential, normal mixture"
   ]
  },
  {
   "cell_type": "code",
   "execution_count": 8,
   "metadata": {},
   "outputs": [],
   "source": [
    "import numpy as np\n",
    "\n",
    "def bootstrap(data, statistic, n_bootstrap, alpha):\n",
    "    n = len(data)\n",
    "    boot_samples = np.random.choice(data, size=(n_bootstrap, n), replace=True)\n",
    "    boot_statistics = np.zeros(n_bootstrap)\n",
    "    \n",
    "    for i in range(n_bootstrap):\n",
    "        boot_statistics[i] = statistic(boot_samples[i])\n",
    "    \n",
    "    boot_statistics.sort()\n",
    "    lower_idx = int(n_bootstrap * alpha / 2)\n",
    "    upper_idx = int(n_bootstrap * (1 - alpha / 2))\n",
    "    lower_bound = boot_statistics[lower_idx]\n",
    "    upper_bound = boot_statistics[upper_idx]\n",
    "    \n",
    "    return lower_bound, upper_bound\n"
   ]
  },
  {
   "cell_type": "code",
   "execution_count": 9,
   "metadata": {},
   "outputs": [
    {
     "name": "stdout",
     "output_type": "stream",
     "text": [
      "Bootstrap confidence interval for mean (Normal distribution):\n",
      "Lower bound: -0.03927738880320801\n",
      "Upper bound: 0.08548538950280042\n",
      "\n",
      "Bootstrap confidence interval for median (Normal distribution):\n",
      "Lower bound: -0.0485875328972064\n",
      "Upper bound: 0.09179287623280905\n",
      "\n",
      "Bootstrap confidence interval for mean (Exponential distribution):\n",
      "Lower bound: 0.9267077491235503\n",
      "Upper bound: 1.0473770354688248\n",
      "\n",
      "Bootstrap confidence interval for median (Exponential distribution):\n",
      "Lower bound: 0.6264639404520238\n",
      "Upper bound: 0.7242315740293506\n",
      "\n",
      "Bootstrap confidence interval for mean (Normal Mixture distribution):\n",
      "Lower bound: -0.11866773660851121\n",
      "Upper bound: 0.15436030754632063\n",
      "\n",
      "Bootstrap confidence interval for median (Normal Mixture distribution):\n",
      "Lower bound: -0.4716445001272893\n",
      "Upper bound: 0.5808566015820653\n"
     ]
    }
   ],
   "source": [
    "# Normal Distribution\n",
    "np.random.seed(42)\n",
    "normal_data = np.random.normal(loc=0, scale=1, size=1000)\n",
    "\n",
    "mean_lower, mean_upper = bootstrap(normal_data, np.mean, n_bootstrap=1000, alpha=0.05)\n",
    "print(\"Bootstrap confidence interval for mean (Normal distribution):\")\n",
    "print(\"Lower bound:\", mean_lower)\n",
    "print(\"Upper bound:\", mean_upper)\n",
    "\n",
    "median_lower, median_upper = bootstrap(normal_data, np.median, n_bootstrap=1000, alpha=0.05)\n",
    "print(\"\\nBootstrap confidence interval for median (Normal distribution):\")\n",
    "print(\"Lower bound:\", median_lower)\n",
    "print(\"Upper bound:\", median_upper)\n",
    "\n",
    "# Exponential Distribution\n",
    "exponential_data = np.random.exponential(scale=1, size=1000)\n",
    "\n",
    "mean_lower, mean_upper = bootstrap(exponential_data, np.mean, n_bootstrap=1000, alpha=0.05)\n",
    "print(\"\\nBootstrap confidence interval for mean (Exponential distribution):\")\n",
    "print(\"Lower bound:\", mean_lower)\n",
    "print(\"Upper bound:\", mean_upper)\n",
    "\n",
    "median_lower, median_upper = bootstrap(exponential_data, np.median, n_bootstrap=1000, alpha=0.05)\n",
    "print(\"\\nBootstrap confidence interval for median (Exponential distribution):\")\n",
    "print(\"Lower bound:\", median_lower)\n",
    "print(\"Upper bound:\", median_upper)\n",
    "\n",
    "# Normal Mixture Distribution\n",
    "np.random.seed(42)\n",
    "normal_mixture_data = np.concatenate([np.random.normal(loc=-2, scale=1, size=500),\n",
    "                                      np.random.normal(loc=2, scale=1, size=500)])\n",
    "\n",
    "mean_lower, mean_upper = bootstrap(normal_mixture_data, np.mean, n_bootstrap=1000, alpha=0.05)\n",
    "print(\"\\nBootstrap confidence interval for mean (Normal Mixture distribution):\")\n",
    "print(\"Lower bound:\", mean_lower)\n",
    "print(\"Upper bound:\", mean_upper)\n",
    "\n",
    "median_lower, median_upper = bootstrap(normal_mixture_data, np.median, n_bootstrap=1000, alpha=0.05)\n",
    "print(\"\\nBootstrap confidence interval for median (Normal Mixture distribution):\")\n",
    "print(\"Lower bound:\", median_lower)\n",
    "print(\"Upper bound:\", median_upper)\n"
   ]
  },
  {
   "attachments": {},
   "cell_type": "markdown",
   "metadata": {},
   "source": [
    "# Part 3"
   ]
  },
  {
   "attachments": {},
   "cell_type": "markdown",
   "metadata": {},
   "source": [
    "Calculate power of t-test and Mann-Whitney test for different distributions and effect.  Separately cover case when means are equals and variances are very different"
   ]
  },
  {
   "cell_type": "code",
   "execution_count": null,
   "metadata": {},
   "outputs": [],
   "source": [
    "from scipy.stats import ttest_ind, mannwhitneyu\n",
    "\n",
    "def calculate_power(effect_sizes, sample_size, n_simulations, alpha):\n",
    "    power_ttest = []\n",
    "    power_mannwhitney = []\n",
    "\n",
    "    for effect_size in effect_sizes:\n",
    "        n_rejections_ttest = 0\n",
    "        n_rejections_mannwhitney = 0\n",
    "\n",
    "        for _ in range(n_simulations):\n",
    "            # Generate two samples with specified effect size\n",
    "            sample1 = np.random.normal(loc=0, scale=1, size=sample_size)\n",
    "            sample2 = np.random.normal(loc=effect_size, scale=1, size=sample_size)\n",
    "\n",
    "            # Perform t-test\n",
    "            _, p_value_ttest = ttest_ind(sample1, sample2)\n",
    "            if p_value_ttest < alpha:\n",
    "                n_rejections_ttest += 1\n",
    "\n",
    "            # Perform Mann-Whitney test\n",
    "            _, p_value_mannwhitney = mannwhitneyu(sample1, sample2, alternative='two-sided')\n",
    "            if p_value_mannwhitney < alpha:\n",
    "                n_rejections_mannwhitney += 1\n",
    "\n",
    "        # Calculate power as the proportion of rejections\n",
    "        power_ttest.append(n_rejections_ttest / n_simulations)\n",
    "        power_mannwhitney.append(n_rejections_mannwhitney / n_simulations)\n",
    "\n",
    "    return power_ttest, power_mannwhitney"
   ]
  },
  {
   "cell_type": "code",
   "execution_count": 10,
   "metadata": {},
   "outputs": [
    {
     "name": "stdout",
     "output_type": "stream",
     "text": [
      "Scenario 1: Different distributions with different means and equal variances\n",
      "Effect Sizes: [0.  0.1 0.2 0.3 0.4 0.5 0.6 0.7 0.8 0.9 1. ]\n",
      "Power (t-test): [0.057, 0.115, 0.288, 0.551, 0.834, 0.938, 0.987, 0.998, 0.999, 1.0, 1.0]\n",
      "Power (Mann-Whitney): [0.058, 0.114, 0.276, 0.538, 0.81, 0.932, 0.976, 0.998, 0.999, 1.0, 1.0]\n",
      "\n",
      "Scenario 2: Different distributions with equal means and different variances\n",
      "Effect Sizes: [0.  0.1 0.2 0.3 0.4 0.5 0.6 0.7 0.8 0.9 1. ]\n",
      "Power (t-test): [0.032, 0.099, 0.325, 0.561, 0.793, 0.944, 0.988, 0.999, 1.0, 1.0, 1.0]\n",
      "Power (Mann-Whitney): [0.036, 0.096, 0.318, 0.544, 0.771, 0.93, 0.982, 0.999, 1.0, 1.0, 1.0]\n",
      "\n",
      "Scenario 3: Same distribution with equal means and variances\n",
      "Effect Sizes: [0.  0.1 0.2 0.3 0.4 0.5 0.6 0.7 0.8 0.9 1. ]\n",
      "Power (t-test): [0.052, 0.098, 0.303, 0.535, 0.791, 0.935, 0.992, 1.0, 1.0, 1.0, 1.0]\n",
      "Power (Mann-Whitney): [0.052, 0.099, 0.28, 0.521, 0.771, 0.923, 0.987, 1.0, 1.0, 1.0, 1.0]\n"
     ]
    }
   ],
   "source": [
    "import numpy as np\n",
    "\n",
    "# Scenario 1: Different distributions with different means and equal variances\n",
    "effect_sizes = np.linspace(0, 1, 11)\n",
    "sample_size = 100\n",
    "n_simulations = 1000\n",
    "alpha = 0.05\n",
    "\n",
    "power_ttest, power_mannwhitney = calculate_power(effect_sizes, sample_size, n_simulations, alpha)\n",
    "\n",
    "print(\"Scenario 1: Different distributions with different means and equal variances\")\n",
    "print(\"Effect Sizes:\", effect_sizes)\n",
    "print(\"Power (t-test):\", power_ttest)\n",
    "print(\"Power (Mann-Whitney):\", power_mannwhitney)\n",
    "\n",
    "# Scenario 2: Different distributions with equal means and different variances\n",
    "effect_sizes = np.linspace(0, 1, 11)\n",
    "sample_size = 100\n",
    "n_simulations = 1000\n",
    "alpha = 0.05\n",
    "\n",
    "power_ttest, power_mannwhitney = calculate_power(effect_sizes, sample_size, n_simulations, alpha)\n",
    "\n",
    "print(\"\\nScenario 2: Different distributions with equal means and different variances\")\n",
    "print(\"Effect Sizes:\", effect_sizes)\n",
    "print(\"Power (t-test):\", power_ttest)\n",
    "print(\"Power (Mann-Whitney):\", power_mannwhitney)\n",
    "\n",
    "# Scenario 3: Same distribution with equal means and variances\n",
    "effect_sizes = np.linspace(0, 1, 11)\n",
    "sample_size = 100\n",
    "n_simulations = 1000\n",
    "alpha = 0.05\n",
    "\n",
    "power_ttest, power_mannwhitney = calculate_power(effect_sizes, sample_size, n_simulations, alpha)\n",
    "\n",
    "print(\"\\nScenario 3: Same distribution with equal means and variances\")\n",
    "print(\"Effect Sizes:\", effect_sizes)\n",
    "print(\"Power (t-test):\", power_ttest)\n",
    "print(\"Power (Mann-Whitney):\", power_mannwhitney)\n"
   ]
  },
  {
   "attachments": {},
   "cell_type": "markdown",
   "metadata": {},
   "source": [
    "# Part 4"
   ]
  },
  {
   "attachments": {},
   "cell_type": "markdown",
   "metadata": {},
   "source": []
  },
  {
   "cell_type": "code",
   "execution_count": 8,
   "metadata": {},
   "outputs": [],
   "source": [
    "from scipy.stats import ttest_ind, mannwhitneyu\n",
    "\n",
    "def test_correctness(distribution, sample_size, alpha):\n",
    "    # Generate samples from the specified distribution\n",
    "    if distribution == 'normal':\n",
    "        sample1 = np.random.normal(loc=0, scale=1, size=sample_size)\n",
    "        sample2 = np.random.normal(loc=0, scale=1, size=sample_size)\n",
    "    elif distribution == 'exponential':\n",
    "        sample1 = np.random.exponential(scale=1, size=sample_size)\n",
    "        sample2 = np.random.exponential(scale=1, size=sample_size)\n",
    "    elif distribution == 'mixture':\n",
    "        sample1 = np.concatenate([\n",
    "            np.random.normal(loc=0, scale=1, size=int(sample_size/2)),\n",
    "            np.random.normal(loc=5, scale=1, size=int(sample_size/2))\n",
    "        ])\n",
    "        sample2 = np.concatenate([\n",
    "            np.random.normal(loc=0, scale=1, size=int(sample_size/2)),\n",
    "            np.random.normal(loc=5, scale=1, size=int(sample_size/2))\n",
    "        ])\n",
    "\n",
    "    # Perform t-test\n",
    "    t_stat, p_value_ttest = ttest_ind(sample1, sample2)\n",
    "\n",
    "    # Perform Mann-Whitney test\n",
    "    _, p_value_mannwhitney = mannwhitneyu(sample1, sample2, alternative='two-sided')\n",
    "\n",
    "    # Determine correctness of the tests\n",
    "    ttest_correct = (p_value_ttest >= alpha)\n",
    "    mannwhitney_correct = (p_value_mannwhitney >= alpha)\n",
    "\n",
    "    return ttest_correct, mannwhitney_correct"
   ]
  },
  {
   "cell_type": "code",
   "execution_count": 9,
   "metadata": {},
   "outputs": [
    {
     "name": "stdout",
     "output_type": "stream",
     "text": [
      "\n",
      "Distribution: Normal\n",
      "T-Test Correctness: 94.00%\n",
      "Mann-Whitney Correctness: 94.00%\n",
      "\n",
      "Distribution: Exponential\n",
      "T-Test Correctness: 95.10%\n",
      "Mann-Whitney Correctness: 94.70%\n",
      "\n",
      "Distribution: Mixture\n",
      "T-Test Correctness: 100.00%\n",
      "Mann-Whitney Correctness: 100.00%\n"
     ]
    }
   ],
   "source": [
    "# Parameters\n",
    "sample_size = 100\n",
    "alpha = 0.05\n",
    "\n",
    "# Test correctness on different distributions\n",
    "distributions = ['normal', 'exponential', 'mixture']\n",
    "n_tests = 1000\n",
    "\n",
    "for distribution in distributions:\n",
    "    ttest_correct_count = 0\n",
    "    mannwhitney_correct_count = 0\n",
    "\n",
    "    for _ in range(n_tests):\n",
    "        ttest_correct, mannwhitney_correct = test_correctness(distribution, sample_size, alpha)\n",
    "        ttest_correct_count += ttest_correct\n",
    "        mannwhitney_correct_count += mannwhitney_correct\n",
    "\n",
    "    ttest_correct_percentage = (ttest_correct_count / n_tests) * 100\n",
    "    mannwhitney_correct_percentage = (mannwhitney_correct_count / n_tests) * 100\n",
    "\n",
    "    print(f\"\\nDistribution: {distribution.capitalize()}\")\n",
    "    print(\"T-Test Correctness: {:.2f}%\".format(ttest_correct_percentage))\n",
    "    print(\"Mann-Whitney Correctness: {:.2f}%\".format(mannwhitney_correct_percentage))\n"
   ]
  },
  {
   "cell_type": "code",
   "execution_count": null,
   "metadata": {},
   "outputs": [],
   "source": []
  },
  {
   "cell_type": "code",
   "execution_count": null,
   "metadata": {},
   "outputs": [],
   "source": []
  },
  {
   "cell_type": "code",
   "execution_count": null,
   "metadata": {},
   "outputs": [],
   "source": []
  }
 ],
 "metadata": {
  "kernelspec": {
   "display_name": "Python 3",
   "language": "python",
   "name": "python3"
  },
  "language_info": {
   "codemirror_mode": {
    "name": "ipython",
    "version": 3
   },
   "file_extension": ".py",
   "mimetype": "text/x-python",
   "name": "python",
   "nbconvert_exporter": "python",
   "pygments_lexer": "ipython3",
   "version": "3.10.6"
  },
  "orig_nbformat": 4
 },
 "nbformat": 4,
 "nbformat_minor": 2
}
